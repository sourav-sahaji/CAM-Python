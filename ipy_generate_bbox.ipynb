{
 "cells": [
  {
   "cell_type": "code",
   "execution_count": null,
   "metadata": {
    "collapsed": false
   },
   "outputs": [],
   "source": [
    "## Here is the code to generate the bounding box from the heatmap\n",
    "# \n",
    "# to reproduce the ILSVRC localization result, you need to first generate\n",
    "# the heatmap for each testing image by merging the heatmap from the\n",
    "# 10-crops (it is exactly what the demo code is doing), then resize the merged heatmap back to the original size of\n",
    "# that image. Then use this bbox generator to generate the bbox from the resized heatmap.\n",
    "#\n",
    "# The source code of the bbox generator is also released. Probably you need\n",
    "# to install the correct version of OpenCV to compile it.\n",
    "#\n",
    "# Special thanks to Hui Li for helping on this code.\n",
    "#\n",
    "# Bolei Zhou, April 19, 2016\n",
    "\n",
    "import os\n",
    "import numpy as np\n",
    "import cv2\n",
    "from py_map2jpg import py_map2jpg\n",
    "\n",
    "import matplotlib.pyplot as plt\n",
    "%matplotlib inline\n",
    "\n",
    "def im2double(im):\n",
    "\treturn cv2.normalize(im.astype('float'), None, 0.0, 1.0, cv2.NORM_MINMAX)\n",
    "\n",
    "bbox_threshold = [20, 100, 110] # parameters for the bbox generator\n",
    "curParaThreshold = str(bbox_threshold[0])+' '+str(bbox_threshold[1])+' '+str(bbox_threshold[2])+' '\n",
    "curHeatMapFile = 'bboxgenerator/heatmap_6.jpg';\n",
    "curImgFile = 'bboxgenerator/sample_6.jpg';\n",
    "curBBoxFile = 'bboxgenerator/heatmap_6.txt';\n",
    "\n",
    "os.system(\"bboxgenerator/./dt_box \"+curHeatMapFile+' '+curParaThreshold+' '+curBBoxFile)\n",
    "\n",
    "with open(curBBoxFile) as f:\n",
    "\tfor line in f:\n",
    "\t\titems = [int(x) for x in line.strip().split()]\n",
    "\n",
    "boxData1 = np.array(items[0::4]).T\n",
    "boxData2 = np.array(items[1::4]).T\n",
    "boxData3 = np.array(items[2::4]).T\n",
    "boxData4 = np.array(items[3::4]).T\n",
    "\n",
    "boxData_formulate = np.array([boxData1, boxData2, boxData1+boxData3, boxData2+boxData4]).T\n",
    "\n",
    "col1 = np.min(np.array([boxData_formulate[:,0], boxData_formulate[:,2]]), axis=0)\n",
    "col2 = np.min(np.array([boxData_formulate[:,1], boxData_formulate[:,3]]), axis=0)\n",
    "col3 = np.max(np.array([boxData_formulate[:,0], boxData_formulate[:,2]]), axis=0)\n",
    "col4 = np.max(np.array([boxData_formulate[:,1], boxData_formulate[:,3]]), axis=0)\n",
    "\n",
    "boxData_formulate = np.array([col1, col2, col3, col4]).T\n",
    "\n",
    "curHeatMap = cv2.imread(curHeatMapFile)\n",
    "curImg = cv2.imread(curImgFile)\n",
    "\n",
    "curHeatMap = im2double(curHeatMap)\n",
    "curHeatMap = py_map2jpg(curHeatMap, None, 'jet')\n",
    "curHeatMap = im2double(curImg)*0.2+im2double(curHeatMap)*0.7\n",
    "\n",
    "for i in range(boxData_formulate.shape[0]): # for each bbox\n",
    "    print(boxData_formulate[i][:2])\n",
    "    print(boxData_formulate[i][2:])\n",
    "    cv2.rectangle(curHeatMap, tuple(boxData_formulate[i][:2]), tuple(boxData_formulate[i][2:]), (255,0,0), 3)\n",
    "    plt.imshow(curHeatMap)\n",
    "    plt.show()\n",
    "#     cv2.imshow('bbox', curHeatMap)\n",
    "#     cv2.waitKey(0)"
   ]
  },
  {
   "cell_type": "code",
   "execution_count": null,
   "metadata": {
    "collapsed": true
   },
   "outputs": [],
   "source": []
  }
 ],
 "metadata": {
  "kernelspec": {
   "display_name": "Python 2",
   "language": "python",
   "name": "python2"
  },
  "language_info": {
   "codemirror_mode": {
    "name": "ipython",
    "version": 2
   },
   "file_extension": ".py",
   "mimetype": "text/x-python",
   "name": "python",
   "nbconvert_exporter": "python",
   "pygments_lexer": "ipython2",
   "version": "2.7.6"
  }
 },
 "nbformat": 4,
 "nbformat_minor": 2
}
