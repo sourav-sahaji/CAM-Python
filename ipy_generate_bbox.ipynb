{
 "cells": [
  {
   "cell_type": "code",
   "execution_count": null,
   "metadata": {
    "collapsed": false
   },
   "outputs": [],
   "source": [
    "## Here is the code to generate the bounding box from the heatmap\n",
    "# \n",
    "# to reproduce the ILSVRC localization result, you need to first generate\n",
    "# the heatmap for each testing image by merging the heatmap from the\n",
    "# 10-crops (it is exactly what the demo code is doing), then resize the merged heatmap back to the original size of\n",
    "# that image. Then use this bbox generator to generate the bbox from the resized heatmap.\n",
    "#\n",
    "# The source code of the bbox generator is also released. Probably you need\n",
    "# to install the correct version of OpenCV to compile it.\n",
    "#\n",
    "# Special thanks to Hui Li for helping on this code.\n",
    "#\n",
    "# Bolei Zhou, April 19, 2016\n",
    "\n",
    "import os\n",
    "import numpy as np\n",
    "import cv2\n",
    "from py_map2jpg import py_map2jpg\n",
    "\n",
    "import matplotlib.pyplot as plt\n",
    "%matplotlib inline\n",
    "\n",
    "def im2double(im):\n",
    "\treturn cv2.normalize(im.astype('float'), None, 0.0, 1.0, cv2.NORM_MINMAX)\n",
    "\n",
    "def getBbox(curHeatMapFile,curImgFile,curBBoxFile,bbox_threshold):\n",
    "#     bbox_threshold = [20, 100, 110] # parameters for the bbox generator\n",
    "    curParaThreshold = str(bbox_threshold[0])+' '+str(bbox_threshold[1])+' '+str(bbox_threshold[2])+' '\n",
    "#     curHeatMapFile = 'bboxgenerator/heatmap_6.jpg';\n",
    "#     curImgFile = 'bboxgenerator/sample_6.jpg';\n",
    "#     curBBoxFile = 'bboxgenerator/heatmap_6.txt';\n",
    "\n",
    "    os.system(\"bboxgenerator/./dt_box \"+curHeatMapFile+' '+curParaThreshold+' '+curBBoxFile)\n",
    "\n",
    "    with open(curBBoxFile) as f:\n",
    "        for line in f:\n",
    "            items = [int(x) for x in line.strip().split()]\n",
    "\n",
    "    boxData1 = np.array(items[0::4]).T\n",
    "    boxData2 = np.array(items[1::4]).T\n",
    "    boxData3 = np.array(items[2::4]).T\n",
    "    boxData4 = np.array(items[3::4]).T\n",
    "\n",
    "    boxData_formulate = np.array([boxData1, boxData2, boxData1+boxData3, boxData2+boxData4]).T\n",
    "\n",
    "    col1 = np.min(np.array([boxData_formulate[:,0], boxData_formulate[:,2]]), axis=0)\n",
    "    col2 = np.min(np.array([boxData_formulate[:,1], boxData_formulate[:,3]]), axis=0)\n",
    "    col3 = np.max(np.array([boxData_formulate[:,0], boxData_formulate[:,2]]), axis=0)\n",
    "    col4 = np.max(np.array([boxData_formulate[:,1], boxData_formulate[:,3]]), axis=0)\n",
    "\n",
    "    boxData_formulate = np.array([col1, col2, col3, col4]).T\n",
    "\n",
    "    curHeatMap = cv2.imread(curHeatMapFile)\n",
    "    curImg = cv2.imread(curImgFile)\n",
    "\n",
    "    curHeatMap = im2double(curHeatMap)\n",
    "    curHeatMap = py_map2jpg(curHeatMap, None, 'jet')\n",
    "    curHeatMap = im2double(curImg)*0.2+im2double(curHeatMap)*0.7\n",
    "\n",
    "    for i in range(boxData_formulate.shape[0]): # for each bbox\n",
    "        print(boxData_formulate[i][:2])\n",
    "        print(boxData_formulate[i][2:])\n",
    "        cv2.rectangle(curHeatMap, tuple(boxData_formulate[i][:2]), tuple(boxData_formulate[i][2:]), (255,0,0), 1)\n",
    "        plt.imshow(curHeatMap)\n",
    "        plt.show()\n",
    "    #     cv2.imshow('bbox', curHeatMap)\n",
    "    #     cv2.waitKey(0)\n",
    "    \n",
    "    return boxData_formulate[0]"
   ]
  },
  {
   "cell_type": "markdown",
   "metadata": {},
   "source": [
    "### Sample Test "
   ]
  },
  {
   "cell_type": "code",
   "execution_count": null,
   "metadata": {
    "collapsed": false
   },
   "outputs": [],
   "source": [
    "curHeatMapFile1 = 'bboxgenerator/heatmap_6.jpg';\n",
    "curImgFile1 = 'bboxgenerator/sample_6.jpg';\n",
    "curBBoxFile1 = 'bboxgenerator/heatmap_6.txt';\n",
    "\n",
    "bbox_threshold1 = [20, 100, 110] # parameters for the bbox generator\n",
    "\n",
    "getBbox(curHeatMapFile1,curImgFile1,curBBoxFile1,bbox_threshold1)\n"
   ]
  },
  {
   "cell_type": "code",
   "execution_count": null,
   "metadata": {
    "collapsed": false,
    "scrolled": true
   },
   "outputs": [],
   "source": [
    "def scaleBox(box,scaleFactor):\n",
    "    boxCenter = np.array( [0.5*(box[0]+box[2]), 0.5*(box[1]+box[3])] )\n",
    "    print(boxCenter)\n",
    "    width = box[2] - box[0]\n",
    "    height = box[3] - box[1]\n",
    "    newBox = box.copy()\n",
    "    newBox[0:2] = boxCenter - scaleFactor*np.array(width,height)/2\n",
    "    newBox[2:4] = boxCenter + scaleFactor*np.array(width,height)/2\n",
    "    print(\"Box scaled from \", box, \" to \", newBox)\n",
    "    return newBox\n",
    "    \n",
    "for mapNum in range(5):\n",
    "#     mapNum = 3\n",
    "    curHeatMapFile2 = 'bboxgenerator/heatmaps/' + str(mapNum) + '.jpg'\n",
    "    curImgFile2 = 'bboxgenerator/heatmaps/1-raw.jpg'\n",
    "    curBBoxFile2 = 'bboxgenerator/heatmaps/' + str(mapNum) + '.txt'\n",
    "\n",
    "    bbox_threshold2 = [160, 181, 182] # parameters for the bbox generator\n",
    "\n",
    "    img = cv2.imread(curHeatMapFile2)\n",
    "    print(img.shape)\n",
    "    plt.imshow(img,'gray')\n",
    "    plt.colorbar()\n",
    "    plt.show()\n",
    "\n",
    "    bbox = getBbox(curHeatMapFile2,curImgFile2,curBBoxFile2,bbox_threshold2)\n",
    "#     print(\"bbox:\",bbox)\n",
    "    newBox = scaleBox(bbox,2.0)\n"
   ]
  },
  {
   "cell_type": "code",
   "execution_count": null,
   "metadata": {
    "collapsed": true
   },
   "outputs": [],
   "source": []
  }
 ],
 "metadata": {
  "kernelspec": {
   "display_name": "Python 2",
   "language": "python",
   "name": "python2"
  },
  "language_info": {
   "codemirror_mode": {
    "name": "ipython",
    "version": 2
   },
   "file_extension": ".py",
   "mimetype": "text/x-python",
   "name": "python",
   "nbconvert_exporter": "python",
   "pygments_lexer": "ipython2",
   "version": "2.7.6"
  }
 },
 "nbformat": 4,
 "nbformat_minor": 2
}
